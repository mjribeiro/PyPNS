{
    "cells": [
     {
      "cell_type": "code",
      "execution_count": null,
      "metadata": {},
      "outputs": [],
      "source": [
       "%matplotlib inline\n",
       "import matplotlib as mpl\n",
       "import matplotlib.pyplot as plt"
      ]
     },
     {
      "cell_type": "code",
      "execution_count": null,
      "metadata": {},
      "outputs": [],
      "source": [
       "!pip install tk"
      ]
     },
     {
      "cell_type": "code",
      "execution_count": null,
      "metadata": {},
      "outputs": [],
      "source": [
       "import PyPNS"
      ]
     },
     {
      "cell_type": "code",
      "execution_count": null,
      "metadata": {},
      "outputs": [],
      "source": [
       "import numpy as np"
      ]
     },
     {
      "cell_type": "code",
      "execution_count": null,
      "metadata": {},
      "outputs": [],
      "source": [
       "# ---------------------------------------------------------------------------\n",
       "# --------------------------------- DEFINITION ------------------------------\n",
       "# ---------------------------------------------------------------------------\n",
       "\n",
       "# ----------------------------- simulation params ---------------------------\n",
       "\n",
       "tStop=50\n",
       "dt=0.0025\n",
       "\n",
       "# ----------------------------- axon params ---------------------------\n",
       "\n",
       "# diameters enlarged for quicker execution\n",
       "myelinatedParameters = {'fiberD': {'distName': 'normal', 'params': (1.7, 0.4)}}\n",
       "unmyelinatedParameters = {'fiberD': {'distName': 'normal', 'params': (1.0, 0.2)}}\n",
       "\n",
       "segmentLengthAxon = 15\n",
       "rdc = 0.2 # random direction component\n",
       "\n",
       "# ----------------------------- bundle params -------------------------------\n",
       "\n",
       "# set length of bundle and number of axons\n",
       "bundleLength = 40000\n",
       "nAxons = 1\n",
       "\n",
       "# bundle guide\n",
       "bundleGuide = PyPNS.createGeometry.get_bundle_guide_straight(bundleLength, segmentLengthAxon)\n",
       "\n",
       "# ------------------------ intracellular stimulation params -----------------\n",
       "\n",
       "# parameters of signals for stimulation\n",
       "rectangularSignalParamsIntra = {'amplitude': 50., #50,  # Pulse amplitude (mA)\n",
       "                                'frequency': 20.,  # Frequency of the pulse (kHz)\n",
       "                                'dutyCycle': 0.5,  # Percentage stimulus is ON for one period (t_ON = duty_cyle*1/f)\n",
       "                                'stimDur': 0.05,  # Stimulus duration (ms)\n",
       "                                'waveform': 'MONOPHASIC',  # Type of waveform either \"MONOPHASIC\" or \"BIPHASIC\" symmetric\n",
       "                                'delay': 0.,  # ms\n",
       "                                # 'invert': True,\n",
       "                                # 'timeRes': timeRes,\n",
       "                                }\n",
       "\n",
       "intraParameters = {'stimulusSignal': PyPNS.signalGeneration.rectangular(**rectangularSignalParamsIntra)}\n",
       "\n",
       "# ------------------------- extracellular stimulation params -----------------\n",
       "\n",
       "rectangularSignalParamsExtra = {'amplitude': 3000, # Pulse amplitude (nA)\n",
       "                                'frequency': 1,  # Frequency of the pulse (kHz)\n",
       "                                'dutyCycle': 0.5, # Percentage stimulus is ON for one period (t_ON = duty_cyle*1/f)\n",
       "                                'stimDur': 1.,  # Stimulus duration (ms)\n",
       "                                'waveform': 'MONOPHASIC', # Type of waveform either \"MONOPHASIC\" or \"BIPHASIC\" symmetric\n",
       "                                'delay': 0.,  # ms\n",
       "                                # 'invert': True,\n",
       "                                # 'timeRes': timeRes,\n",
       "                                }\n",
       "\n",
       "elecPosStim = PyPNS.createGeometry.circular_electrode(bundleGuide, positionAlongBundle=12500, radius=235,\n",
       "                                                     numberOfPoles=2, poleDistance=1000)\n",
       "extPotMechStim = PyPNS.Extracellular.precomputedFEM(bundleGuide) # , 'oil190Inner50Endoneurium')\n",
       "\n",
       "extraParameters = {'stimulusSignal': PyPNS.signalGeneration.rectangular(**rectangularSignalParamsExtra),\n",
       "                   'electrodePositions': elecPosStim,\n",
       "                   'extPotMech': extPotMechStim}\n",
       "\n",
       "# ----------------------------- recording params -------------------------------\n",
       "\n",
       "recordingParametersNew = {'bundleGuide': bundleGuide,\n",
       "                          'radius': 220,\n",
       "                          'positionAlongBundle': bundleLength*0.5,\n",
       "                          'numberOfPoles': 1,\n",
       "                          'poleDistance': 1000,\n",
       "                          }\n",
       "\n",
       "electrodePoints = PyPNS.createGeometry.circular_electrode(**recordingParametersNew)\n",
       "\n",
       "extracellularMechs = []\n",
       "extracellularMechs.append(PyPNS.Extracellular.homogeneous(sigma=1))\n",
       "extracellularMechs.append(PyPNS.Extracellular.precomputedFEM(bundleGuide))\n",
       "extracellularMechs.append(PyPNS.Extracellular.analytic(bundleGuide))\n",
       "\n",
       "extracellularMechNames = ['homogeneous', 'radially inhomogeneous', 'cuff']\n",
       "\n",
       "# ------------------------------------------------------------------------------\n",
       "# --------------------------- PyPNS object instantiation  -----------------------\n",
       "# ------------------------------------------------------------------------------\n",
       "\n",
       "# set all properties of the bundle\n",
       "bundleParameters = {'radius': 180,  #um Radius of the bundle (match carefully to extracellular mechanism)\n",
       "                    'randomDirectionComponent': rdc,\n",
       "                    'bundleGuide': bundleGuide,\n",
       "\n",
       "                    'numberOfAxons': nAxons,  # Number of axons in the bundle\n",
       "                    'pMyel': 1.,  # Percentage of myelinated fiber type A\n",
       "                    'pUnmyel': 0.,  # Percentage of unmyelinated fiber type C\n",
       "                    'paramsMyel': myelinatedParameters,  # parameters for fiber type A\n",
       "                    'paramsUnmyel': unmyelinatedParameters,  # parameters for fiber type C\n",
       "\n",
       "                    'tStop': tStop,\n",
       "                    'timeRes': dt,\n",
       "\n",
       "                    # 'saveI':True,\n",
       "                    'saveV': False,\n",
       "\n",
       "                    # 'numberOfSavedSegments': 50,  # number of segments of which the membrane potential is saved to disk\n",
       "                    }"
      ]
     },
     {
      "cell_type": "code",
      "execution_count": null,
      "metadata": {},
      "outputs": [],
      "source": [
       "# create the bundle with all properties of axons\n",
       "bundle = PyPNS.Bundle(**bundleParameters)\n",
       "\n",
       "# spiking through a single electrical stimulation\n",
       "bundle.add_excitation_mechanism(PyPNS.StimIntra(**intraParameters))\n",
       "bundle.add_excitation_mechanism(PyPNS.StimField(**extraParameters))\n",
       "\n",
       "# add recording electrodes. One for each extracellular medium\n",
       "for extracellularMech in extracellularMechs:\n",
       "    bundle.add_recording_mechanism(PyPNS.RecordingMechanism(electrodePoints, extracellularMech))"
      ]
     },
     {
      "cell_type": "code",
      "execution_count": null,
      "metadata": {},
      "outputs": [],
      "source": [
       "# ------------------------------------------------------------------------------\n",
       "# -------------------------------- PyPNS calculation  ---------------------------\n",
       "# ------------------------------------------------------------------------------\n",
       "\n",
       "# run the simulation\n",
       "bundle.simulate()\n",
       "\n",
       "# PyPNS.save_bundle(bundle)\n",
       "# print('bundle saved.')"
      ]
     },
     {
      "cell_type": "code",
      "execution_count": null,
      "metadata": {},
      "outputs": [],
      "source": [
       "# ------------------------------------------------------------------------------\n",
       "# -------------------------------- Result Plotting  ----------------------------\n",
       "# ------------------------------------------------------------------------------\n",
       "#plt.figure()\n",
       "for i in range(len(bundle.recordingMechanisms)):\n",
       "    t, SFAPs = bundle.get_SFAPs_from_file(i)\n",
       "    plt.plot(t, SFAPs, label=extracellularMechNames[i])\n",
       "plt.legend()\n",
       "plt.xlabel('time (ms)')\n",
       "plt.ylabel('voltage (mV)')\n",
       "plt.show()"
      ]
     }
    ],
    "metadata": {
     "kernelspec": {
      "display_name": "Python 3",
      "language": "python",
      "name": "python3"
     },
     "language_info": {
      "codemirror_mode": {
       "name": "ipython",
       "version": 3
      },
      "file_extension": ".py",
      "mimetype": "text/x-python",
      "name": "python",
      "nbconvert_exporter": "python",
      "pygments_lexer": "ipython3",
      "version": "3.7.6"
     }
    },
    "nbformat": 4,
    "nbformat_minor": 4
   }
   